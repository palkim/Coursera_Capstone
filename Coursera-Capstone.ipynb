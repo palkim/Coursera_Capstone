{
    "cells": [
        {
            "cell_type": "markdown",
            "metadata": {},
            "source": "This notebook is created for the Capstone Project required in Coursera course."
        },
        {
            "cell_type": "code",
            "execution_count": 1,
            "metadata": {},
            "outputs": [],
            "source": "import pandas as pd\nimport numpy as np"
        },
        {
            "cell_type": "code",
            "execution_count": 2,
            "metadata": {},
            "outputs": [
                {
                    "name": "stdout",
                    "output_type": "stream",
                    "text": "Hello Capstone Project Course!\n"
                }
            ],
            "source": "print(\"Hello Capstone Project Course!\")"
        },
        {
            "cell_type": "markdown",
            "metadata": {},
            "source": "- A description of the problem and a discussion of the background. (15 marks)\n\n- A description of the data and how it will be used to solve the problem. (15 marks)"
        },
        {
            "cell_type": "markdown",
            "metadata": {},
            "source": "# Introduction/Business Problem\n\nAssume you will be working in IBM Istanbul, the most famous city in Turkey. Where should you be living so that you will be close to the office, your place is close to popular places around and cost is optimized?\nI will try to answer this problem by looking at the districts data of Istanbul, foursquare popularity score of places nearby the locations and annual household income of the houses nearby."
        },
        {
            "cell_type": "markdown",
            "metadata": {},
            "source": "# Data"
        },
        {
            "cell_type": "markdown",
            "metadata": {},
            "source": "The district data will come from https://en.wikipedia.org/wiki/List_of_districts_of_Istanbul along with the annual household income."
        },
        {
            "cell_type": "markdown",
            "metadata": {},
            "source": "There is so much traffic in Istanbul, so we have to find the districts that are near the IBM Istanbul office. First of all we should investigate the districts and how close they are to the office."
        },
        {
            "cell_type": "markdown",
            "metadata": {},
            "source": "The data for popular places will come from the foursquare API."
        },
        {
            "cell_type": "markdown",
            "metadata": {},
            "source": "Then we will select a district according to closeness and annual income factor. Then we will explore the places that it has and see if it contains good places to socialize with foursquare data."
        },
        {
            "cell_type": "markdown",
            "metadata": {},
            "source": "The output of this work can be helpful to individuals started working at IBM Istanbul and didn't live there before. This hopefully help people to pick where to live in an unknown city where they go for work."
        },
        {
            "cell_type": "code",
            "execution_count": null,
            "metadata": {},
            "outputs": [],
            "source": ""
        }
    ],
    "metadata": {
        "kernelspec": {
            "display_name": "Python 3.7",
            "language": "python",
            "name": "python3"
        },
        "language_info": {
            "codemirror_mode": {
                "name": "ipython",
                "version": 3
            },
            "file_extension": ".py",
            "mimetype": "text/x-python",
            "name": "python",
            "nbconvert_exporter": "python",
            "pygments_lexer": "ipython3",
            "version": "3.7.10"
        }
    },
    "nbformat": 4,
    "nbformat_minor": 1
}